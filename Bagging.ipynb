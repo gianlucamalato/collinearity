{
  "nbformat": 4,
  "nbformat_minor": 0,
  "metadata": {
    "colab": {
      "name": "Bagging.ipynb",
      "provenance": [],
      "authorship_tag": "ABX9TyNaaTq/6YMpzCw6an8wM0jO"
    },
    "kernelspec": {
      "name": "python3",
      "display_name": "Python 3"
    },
    "language_info": {
      "name": "python"
    }
  },
  "cells": [
    {
      "cell_type": "code",
      "metadata": {
        "id": "PfYP9a4pgPjP"
      },
      "source": [
        "from sklearn.datasets import load_breast_cancer,load_diabetes"
      ],
      "execution_count": 1,
      "outputs": []
    },
    {
      "cell_type": "code",
      "metadata": {
        "id": "-jH5nMn4gVAp"
      },
      "source": [
        "from sklearn.linear_model import LinearRegression\n",
        "from sklearn.naive_bayes import GaussianNB"
      ],
      "execution_count": 2,
      "outputs": []
    },
    {
      "cell_type": "code",
      "metadata": {
        "id": "uDpqIJ9ygdT4"
      },
      "source": [
        "from sklearn.ensemble import BaggingClassifier,BaggingRegressor\n",
        "\n",
        "\n",
        "from sklearn.model_selection import cross_val_score"
      ],
      "execution_count": 3,
      "outputs": []
    },
    {
      "cell_type": "markdown",
      "metadata": {
        "id": "kip8j-dogkXl"
      },
      "source": [
        "# Classification"
      ]
    },
    {
      "cell_type": "code",
      "metadata": {
        "id": "Zz0yBcg3gjh5"
      },
      "source": [
        "X,y = load_breast_cancer(return_X_y=True)"
      ],
      "execution_count": 4,
      "outputs": []
    },
    {
      "cell_type": "code",
      "metadata": {
        "colab": {
          "base_uri": "https://localhost:8080/"
        },
        "id": "AAcr6L2ehB2I",
        "outputId": "381e5f6d-a996-4ba5-b2d7-211e2ca46faa"
      },
      "source": [
        "nb = GaussianNB()\n",
        "\n",
        "cross_val_score(nb,X,y,scoring=\"balanced_accuracy\",cv=10).var()"
      ],
      "execution_count": 5,
      "outputs": [
        {
          "output_type": "execute_result",
          "data": {
            "text/plain": [
              "0.0011182285777794419"
            ]
          },
          "metadata": {},
          "execution_count": 5
        }
      ]
    },
    {
      "cell_type": "code",
      "metadata": {
        "id": "73OUAh18gn0w"
      },
      "source": [
        "model = BaggingClassifier(GaussianNB(),n_estimators = 10, max_features = 0.5,random_state = 0, n_jobs = -1)"
      ],
      "execution_count": 6,
      "outputs": []
    },
    {
      "cell_type": "code",
      "metadata": {
        "colab": {
          "base_uri": "https://localhost:8080/"
        },
        "id": "IyJCe1pIg5Kg",
        "outputId": "06119176-f24f-437e-b3ce-e44cc6416710"
      },
      "source": [
        "cross_val_score(model,X,y,scoring=\"balanced_accuracy\",cv=10).var()"
      ],
      "execution_count": 7,
      "outputs": [
        {
          "output_type": "execute_result",
          "data": {
            "text/plain": [
              "0.000944202642795715"
            ]
          },
          "metadata": {},
          "execution_count": 7
        }
      ]
    },
    {
      "cell_type": "markdown",
      "metadata": {
        "id": "_9Jq8iGJh4lI"
      },
      "source": [
        "# Regression"
      ]
    },
    {
      "cell_type": "code",
      "metadata": {
        "id": "g3sCLbR9hbWQ"
      },
      "source": [
        "X,y = load_diabetes(return_X_y=True)"
      ],
      "execution_count": 8,
      "outputs": []
    },
    {
      "cell_type": "code",
      "metadata": {
        "colab": {
          "base_uri": "https://localhost:8080/"
        },
        "id": "kUAjPZOniDrJ",
        "outputId": "7053de4b-de9f-475c-9f79-5ef39d396a00"
      },
      "source": [
        "lr = LinearRegression()\n",
        "\n",
        "cross_val_score(lr,X,y,scoring=\"r2\",cv=10).var()"
      ],
      "execution_count": 10,
      "outputs": [
        {
          "output_type": "execute_result",
          "data": {
            "text/plain": [
              "0.021605440351612316"
            ]
          },
          "metadata": {},
          "execution_count": 10
        }
      ]
    },
    {
      "cell_type": "code",
      "metadata": {
        "id": "WDBYrDjoiJNj"
      },
      "source": [
        "model = BaggingRegressor(LinearRegression(),n_estimators = 10, max_features = 0.5,random_state = 0, n_jobs = -1)"
      ],
      "execution_count": 11,
      "outputs": []
    },
    {
      "cell_type": "code",
      "metadata": {
        "colab": {
          "base_uri": "https://localhost:8080/"
        },
        "id": "6lAhspYEkcJq",
        "outputId": "4e069618-4b42-4c5b-f0f9-0aef74f37e0f"
      },
      "source": [
        "cross_val_score(model,X,y,scoring=\"r2\",cv=10).var()"
      ],
      "execution_count": 12,
      "outputs": [
        {
          "output_type": "execute_result",
          "data": {
            "text/plain": [
              "0.013136832268767986"
            ]
          },
          "metadata": {},
          "execution_count": 12
        }
      ]
    },
    {
      "cell_type": "code",
      "metadata": {
        "id": "w1zOyd_s-yF-"
      },
      "source": [
        ""
      ],
      "execution_count": null,
      "outputs": []
    }
  ]
}